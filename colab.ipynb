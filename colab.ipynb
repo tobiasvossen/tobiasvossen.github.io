{
  "nbformat": 4,
  "nbformat_minor": 0,
  "metadata": {
    "colab": {
      "name": "colab.new",
      "provenance": [],
      "collapsed_sections": [],
      "authorship_tag": "ABX9TyO/cdiZdzfn9YlhZnSXxkis",
      "include_colab_link": true
    },
    "kernelspec": {
      "name": "python3",
      "display_name": "Python 3"
    }
  },
  "cells": [
    {
      "cell_type": "markdown",
      "metadata": {
        "id": "view-in-github",
        "colab_type": "text"
      },
      "source": [
        "<a href=\"https://colab.research.google.com/github/tobiasvossen/tobiasvossen.github.io/blob/master/colab.ipynb\" target=\"_parent\"><img src=\"https://colab.research.google.com/assets/colab-badge.svg\" alt=\"Open In Colab\"/></a>"
      ]
    },
    {
      "cell_type": "markdown",
      "metadata": {
        "id": "f9nonYttIcY_",
        "colab_type": "text"
      },
      "source": [
        "# CoLab\n",
        "\n",
        "[Google CoLaboratory](https://colab.research.google.com)\n",
        "\n",
        "---\n",
        "\n",
        "[@tobias.vossen](mailto:tobias.vossen@outlook.com)"
      ]
    },
    {
      "cell_type": "markdown",
      "metadata": {
        "id": "TiwMbYYDInAC",
        "colab_type": "text"
      },
      "source": [
        "1.   First things first\n",
        "2.   Data\n",
        "3.   Model\n",
        "4.   Deployment\n",
        "5.   Exit strategy"
      ]
    },
    {
      "cell_type": "code",
      "metadata": {
        "id": "K4uRSbq-66yQ",
        "colab_type": "code",
        "colab": {
          "base_uri": "https://localhost:8080/",
          "height": 34
        },
        "outputId": "745bcdc2-4ebe-4df5-cf37-f67f1d332659"
      },
      "source": [
        "from datetime import datetime\n",
        "print(datetime.now().strftime('Last run: %d.%m.%Y'))"
      ],
      "execution_count": 1,
      "outputs": [
        {
          "output_type": "stream",
          "text": [
            "Last run: 28.05.2020\n"
          ],
          "name": "stdout"
        }
      ]
    },
    {
      "cell_type": "markdown",
      "metadata": {
        "id": "e8YkBWqeIykh",
        "colab_type": "text"
      },
      "source": [
        "## 1. First things first"
      ]
    },
    {
      "cell_type": "code",
      "metadata": {
        "id": "1jrUpbRNMW-w",
        "colab_type": "code",
        "outputId": "ed6460d2-4a6e-4ed6-96a6-eb63abd78130",
        "colab": {
          "base_uri": "https://localhost:8080/",
          "height": 34
        }
      },
      "source": [
        "# Python\n",
        "from platform import python_version\n",
        "print('Python version:', python_version())"
      ],
      "execution_count": 2,
      "outputs": [
        {
          "output_type": "stream",
          "text": [
            "Python version: 3.6.9\n"
          ],
          "name": "stdout"
        }
      ]
    },
    {
      "cell_type": "markdown",
      "metadata": {
        "id": "T2MYmW2rJDd8",
        "colab_type": "text"
      },
      "source": [
        "## 2. Data"
      ]
    },
    {
      "cell_type": "code",
      "metadata": {
        "id": "fODGAQrpJdEE",
        "colab_type": "code",
        "colab": {}
      },
      "source": [
        ""
      ],
      "execution_count": 0,
      "outputs": []
    },
    {
      "cell_type": "markdown",
      "metadata": {
        "id": "CldSQqmFJD8W",
        "colab_type": "text"
      },
      "source": [
        "## 3. Model"
      ]
    },
    {
      "cell_type": "code",
      "metadata": {
        "id": "tQKP4letJcpt",
        "colab_type": "code",
        "colab": {}
      },
      "source": [
        ""
      ],
      "execution_count": 0,
      "outputs": []
    },
    {
      "cell_type": "markdown",
      "metadata": {
        "id": "i_J1Iu__JEDt",
        "colab_type": "text"
      },
      "source": [
        "## 4. Deployment"
      ]
    },
    {
      "cell_type": "code",
      "metadata": {
        "id": "PHQSmwhzIaFx",
        "colab_type": "code",
        "colab": {}
      },
      "source": [
        ""
      ],
      "execution_count": 0,
      "outputs": []
    },
    {
      "cell_type": "markdown",
      "metadata": {
        "id": "EYHl2-4LKK2f",
        "colab_type": "text"
      },
      "source": [
        "## 5. Exit strategy"
      ]
    },
    {
      "cell_type": "code",
      "metadata": {
        "id": "lKUOHgpVKK6i",
        "colab_type": "code",
        "colab": {}
      },
      "source": [
        ""
      ],
      "execution_count": 0,
      "outputs": []
    }
  ]
}